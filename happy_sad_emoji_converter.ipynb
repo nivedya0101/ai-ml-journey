{
  "nbformat": 4,
  "nbformat_minor": 0,
  "metadata": {
    "colab": {
      "provenance": [],
      "authorship_tag": "ABX9TyMCcgmhQSj7UN1csCluRCcv",
      "include_colab_link": true
    },
    "kernelspec": {
      "name": "python3",
      "display_name": "Python 3"
    },
    "language_info": {
      "name": "python"
    }
  },
  "cells": [
    {
      "cell_type": "markdown",
      "metadata": {
        "id": "view-in-github",
        "colab_type": "text"
      },
      "source": [
        "<a href=\"https://colab.research.google.com/github/nivedya0101/ai-ml-journey/blob/main/happy_sad_emoji_converter.ipynb\" target=\"_parent\"><img src=\"https://colab.research.google.com/assets/colab-badge.svg\" alt=\"Open In Colab\"/></a>"
      ]
    },
    {
      "cell_type": "code",
      "execution_count": 2,
      "metadata": {
        "colab": {
          "base_uri": "https://localhost:8080/"
        },
        "id": "xP8tc0aJZw6X",
        "outputId": "8e02a622-8116-4fc3-a905-39e7a1bd6ff3"
      },
      "outputs": [
        {
          "output_type": "stream",
          "name": "stdout",
          "text": [
            "enter message ending with a :) or :( )hey! good morning! :)\n",
            "hey! good morning! 😊 "
          ]
        }
      ],
      "source": [
        "msg=input(\"enter message ending with a :) or :( )\")\n",
        "words=msg.split(' ')\n",
        "for word in words:\n",
        "  if word==\":)\":\n",
        "    print(\"😊\", end=\" \")\n",
        "  elif word==\":(\":\n",
        "    print(\"🙁\", end=\" \")\n",
        "  else:\n",
        "    print(word, end=\" \")"
      ]
    }
  ]
}