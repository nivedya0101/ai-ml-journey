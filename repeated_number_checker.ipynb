{
  "nbformat": 4,
  "nbformat_minor": 0,
  "metadata": {
    "colab": {
      "provenance": [],
      "authorship_tag": "ABX9TyM9nh3sTZd0qQCWx9NzlSEy",
      "include_colab_link": true
    },
    "kernelspec": {
      "name": "python3",
      "display_name": "Python 3"
    },
    "language_info": {
      "name": "python"
    }
  },
  "cells": [
    {
      "cell_type": "markdown",
      "metadata": {
        "id": "view-in-github",
        "colab_type": "text"
      },
      "source": [
        "<a href=\"https://colab.research.google.com/github/nivedya0101/ai-ml-journey/blob/main/repeated_number_checker.ipynb\" target=\"_parent\"><img src=\"https://colab.research.google.com/assets/colab-badge.svg\" alt=\"Open In Colab\"/></a>"
      ]
    },
    {
      "cell_type": "code",
      "execution_count": 12,
      "metadata": {
        "colab": {
          "base_uri": "https://localhost:8080/"
        },
        "id": "UPoCz9FZmcVL",
        "outputId": "69bd8176-d3a1-4705-b608-635c202bc8bd"
      },
      "outputs": [
        {
          "output_type": "stream",
          "name": "stdout",
          "text": [
            "enter a list of numbers[2,3,3,4,3,3]\n",
            "2 is repeated 1 times\n",
            "3 is repeated 4 times\n",
            "4 is repeated 1 times\n"
          ]
        }
      ],
      "source": [
        "L=eval(input(\"enter a list of numbers\"))\n",
        "checked=[]\n",
        "for i in L:\n",
        "  if i not in checked:\n",
        "    count_no=L.count(i)\n",
        "    checked.append(i)\n",
        "    print(f\"{i} is repeated {count_no} times\")"
      ]
    }
  ]
}