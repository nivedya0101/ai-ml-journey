{
  "nbformat": 4,
  "nbformat_minor": 0,
  "metadata": {
    "colab": {
      "provenance": [],
      "authorship_tag": "ABX9TyOeQt3H8MIp4DKtT03rF0+0",
      "include_colab_link": true
    },
    "kernelspec": {
      "name": "python3",
      "display_name": "Python 3"
    },
    "language_info": {
      "name": "python"
    }
  },
  "cells": [
    {
      "cell_type": "markdown",
      "metadata": {
        "id": "view-in-github",
        "colab_type": "text"
      },
      "source": [
        "<a href=\"https://colab.research.google.com/github/nivedya0101/ai-ml-journey/blob/main/Printing_Letter_F.ipynb\" target=\"_parent\"><img src=\"https://colab.research.google.com/assets/colab-badge.svg\" alt=\"Open In Colab\"/></a>"
      ]
    },
    {
      "cell_type": "code",
      "execution_count": 2,
      "metadata": {
        "colab": {
          "base_uri": "https://localhost:8080/"
        },
        "id": "9ohZys6jdxvV",
        "outputId": "df5b588a-f201-4cfb-a40e-ad8beec880c3"
      },
      "outputs": [
        {
          "output_type": "stream",
          "name": "stdout",
          "text": [
            "enter the symbol with which you wat to make the alphabet! (*/./#/@):@\n",
            "@@@@@\n",
            "@@\n",
            "@@@@@\n",
            "@@\n",
            "@@\n"
          ]
        }
      ],
      "source": [
        "symb=input(\"enter the symbol with which you want to make the alphabet! (*/./#/@):\")\n",
        "numbers=[5,2,5,2,2]\n",
        "for i in numbers:\n",
        "  print(symb*i)"
      ]
    },
    {
      "cell_type": "code",
      "source": [],
      "metadata": {
        "id": "VRqlQyFOeMF7"
      },
      "execution_count": null,
      "outputs": []
    }
  ]
}
