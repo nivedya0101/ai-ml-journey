{
  "nbformat": 4,
  "nbformat_minor": 0,
  "metadata": {
    "colab": {
      "provenance": [],
      "authorship_tag": "ABX9TyMstd34OW6EKPn1vgbH4mjv",
      "include_colab_link": true
    },
    "kernelspec": {
      "name": "python3",
      "display_name": "Python 3"
    },
    "language_info": {
      "name": "python"
    }
  },
  "cells": [
    {
      "cell_type": "markdown",
      "metadata": {
        "id": "view-in-github",
        "colab_type": "text"
      },
      "source": [
        "<a href=\"https://colab.research.google.com/github/nivedya0101/ai-ml-journey/blob/main/weight_converter.ipynb\" target=\"_parent\"><img src=\"https://colab.research.google.com/assets/colab-badge.svg\" alt=\"Open In Colab\"/></a>"
      ]
    },
    {
      "cell_type": "code",
      "execution_count": 1,
      "metadata": {
        "colab": {
          "base_uri": "https://localhost:8080/"
        },
        "id": "Ahr33bACQG8d",
        "outputId": "ff054e15-e041-4325-ad83-db4e90b2631a"
      },
      "outputs": [
        {
          "output_type": "stream",
          "name": "stdout",
          "text": [
            "enter your weight50\n",
            "l or kg?kg\n",
            "weight= 110.231 lb\n"
          ]
        }
      ],
      "source": [
        "weight=int(input(\"enter your weight\"))\n",
        "unit=input(\"l or kg?\")\n",
        "if unit==\"l\":\n",
        "  print(\"weight=\",weight*0.453592,\"kg\")\n",
        "elif unit==\"kg\":\n",
        "  print(\"weight=\",weight*2.20462,\"lb\")"
      ]
    }
  ]
}
