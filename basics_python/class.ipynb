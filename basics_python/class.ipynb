{
  "nbformat": 4,
  "nbformat_minor": 0,
  "metadata": {
    "colab": {
      "provenance": [],
      "authorship_tag": "ABX9TyNQi176PSpupqinmugcuR6F",
      "include_colab_link": true
    },
    "kernelspec": {
      "name": "python3",
      "display_name": "Python 3"
    },
    "language_info": {
      "name": "python"
    }
  },
  "cells": [
    {
      "cell_type": "markdown",
      "metadata": {
        "id": "view-in-github",
        "colab_type": "text"
      },
      "source": [
        "<a href=\"https://colab.research.google.com/github/nivedya0101/ai-ml-journey/blob/main/basics_python/class.ipynb\" target=\"_parent\"><img src=\"https://colab.research.google.com/assets/colab-badge.svg\" alt=\"Open In Colab\"/></a>"
      ]
    },
    {
      "cell_type": "code",
      "execution_count": 5,
      "metadata": {
        "colab": {
          "base_uri": "https://localhost:8080/"
        },
        "id": "FhdSP5bqQOtg",
        "outputId": "432224a6-2062-476e-e0ae-1bd0b3412e1e"
      },
      "outputs": [
        {
          "output_type": "stream",
          "name": "stdout",
          "text": [
            "Hi! My name is John and I am 25 years old.\n",
            "Hi! My name is Bob and I am 20 years old.\n"
          ]
        }
      ],
      "source": [
        "class Person:\n",
        "  def __init__(self,name,age):\n",
        "    self.name=name\n",
        "    self.age=age\n",
        "  def talk(self):\n",
        "    print(f\"Hi! My name is {self.name} and I am {self.age} years old.\")\n",
        "\n",
        "john=Person(\"John\",25)\n",
        "bob=Person(\"Bob\", 20)\n",
        "john.talk()\n",
        "bob.talk()\n",
        "\n"
      ]
    }
  ]
}