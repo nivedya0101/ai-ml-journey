{
  "nbformat": 4,
  "nbformat_minor": 0,
  "metadata": {
    "colab": {
      "provenance": [],
      "authorship_tag": "ABX9TyPDvUs+YMwoBGEUNGf2X6Qr",
      "include_colab_link": true
    },
    "kernelspec": {
      "name": "python3",
      "display_name": "Python 3"
    },
    "language_info": {
      "name": "python"
    }
  },
  "cells": [
    {
      "cell_type": "markdown",
      "metadata": {
        "id": "view-in-github",
        "colab_type": "text"
      },
      "source": [
        "<a href=\"https://colab.research.google.com/github/nivedya0101/ai-ml-journey/blob/main/num_to_word_converter.ipynb\" target=\"_parent\"><img src=\"https://colab.research.google.com/assets/colab-badge.svg\" alt=\"Open In Colab\"/></a>"
      ]
    },
    {
      "cell_type": "code",
      "execution_count": 6,
      "metadata": {
        "id": "zd2AJSJYyFFz",
        "colab": {
          "base_uri": "https://localhost:8080/"
        },
        "outputId": "0c2f3472-87c3-427b-8501-175474e0a9e0"
      },
      "outputs": [
        {
          "output_type": "stream",
          "name": "stdout",
          "text": [
            "enter a number to convert to numbers:2007\n",
            "two zero zero seven "
          ]
        }
      ],
      "source": [
        "map={\"0\":\"zero\",\"1\":\"one\",\"2\":\"two\", \"3\":\"three\", \"4\":\"four\", \"5\":\"five\",\"6\":\"six\",\"7\":\"seven\",\"8\":\"eight\",\"9\":\"nine\"}\n",
        "inp=input(\"enter a number to convert to numbers:\")\n",
        "for ch in inp:\n",
        "  print(map[ch],end=' ')"
      ]
    }
  ]
}
