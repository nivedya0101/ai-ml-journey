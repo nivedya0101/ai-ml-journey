{
  "nbformat": 4,
  "nbformat_minor": 0,
  "metadata": {
    "colab": {
      "provenance": [],
      "authorship_tag": "ABX9TyP3sJqjLDAtBh933xvTgAcW",
      "include_colab_link": true
    },
    "kernelspec": {
      "name": "python3",
      "display_name": "Python 3"
    },
    "language_info": {
      "name": "python"
    }
  },
  "cells": [
    {
      "cell_type": "markdown",
      "metadata": {
        "id": "view-in-github",
        "colab_type": "text"
      },
      "source": [
        "<a href=\"https://colab.research.google.com/github/nivedya0101/ai-ml-journey/blob/main/Largest_number_finder.ipynb\" target=\"_parent\"><img src=\"https://colab.research.google.com/assets/colab-badge.svg\" alt=\"Open In Colab\"/></a>"
      ]
    },
    {
      "cell_type": "code",
      "execution_count": 5,
      "metadata": {
        "colab": {
          "base_uri": "https://localhost:8080/"
        },
        "id": "kNpWPf4Ve5cf",
        "outputId": "31cf1958-0cd2-4efc-8ebc-ed7193f00541"
      },
      "outputs": [
        {
          "output_type": "stream",
          "name": "stdout",
          "text": [
            "enter a set of numbers12345\n",
            "the largest number in the list is: 5\n"
          ]
        }
      ],
      "source": [
        "L=list(input(\"enter a set of numbers\"))\n",
        "latest=0\n",
        "for i in L:\n",
        "  if int(i)>latest:\n",
        "    latest=int(i)\n",
        "print(\"the largest number in this set is:\",latest)\n"
      ]
    }
  ]
}