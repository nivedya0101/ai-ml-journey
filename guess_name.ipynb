{
  "nbformat": 4,
  "nbformat_minor": 0,
  "metadata": {
    "colab": {
      "provenance": [],
      "authorship_tag": "ABX9TyPHE5dLWYEkushXrAsN8zvN",
      "include_colab_link": true
    },
    "kernelspec": {
      "name": "python3",
      "display_name": "Python 3"
    },
    "language_info": {
      "name": "python"
    }
  },
  "cells": [
    {
      "cell_type": "markdown",
      "metadata": {
        "id": "view-in-github",
        "colab_type": "text"
      },
      "source": [
        "<a href=\"https://colab.research.google.com/github/nivedya0101/ai-ml-journey/blob/main/guess_name.ipynb\" target=\"_parent\"><img src=\"https://colab.research.google.com/assets/colab-badge.svg\" alt=\"Open In Colab\"/></a>"
      ]
    },
    {
      "cell_type": "code",
      "execution_count": null,
      "metadata": {
        "id": "Dz3BAbp-S3ia",
        "colab": {
          "base_uri": "https://localhost:8080/"
        },
        "outputId": "95768b7f-e631-4616-a49c-d58540f756ff"
      },
      "outputs": [
        {
          "output_type": "stream",
          "name": "stdout",
          "text": [
            "you only have three chances!\n",
            "try to guess the number guessed by this code!\n"
          ]
        }
      ],
      "source": [
        "import random\n",
        "print('''you only have three chances!\n",
        "try to guess the number guessed by this code!''')\n",
        "correct_guess=random.randint(1,10)\n",
        "guess_count=0\n",
        "while guess_count<3:\n",
        "  guess_no=int(input(\"enter your guess number from 1 to 10\"))\n",
        "  if guess_no==correct_guess:\n",
        "    print(\"congratulations! you guessed right!\")\n",
        "  else:\n",
        "    print(\"aww! try again :)\")\n",
        "    guess_count+=1\n",
        "print(\"good game!\")\n"
      ]
    }
  ]
}